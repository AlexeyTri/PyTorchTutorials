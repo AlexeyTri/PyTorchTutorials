{
  "nbformat": 4,
  "nbformat_minor": 0,
  "metadata": {
    "colab": {
      "provenance": [],
      "toc_visible": true,
      "authorship_tag": "ABX9TyOpmxAymFHQM8JuvcWVdPe0",
      "include_colab_link": true
    },
    "kernelspec": {
      "name": "python3",
      "display_name": "Python 3"
    },
    "language_info": {
      "name": "python"
    }
  },
  "cells": [
    {
      "cell_type": "markdown",
      "metadata": {
        "id": "view-in-github",
        "colab_type": "text"
      },
      "source": [
        "<a href=\"https://colab.research.google.com/github/AlexeyTri/PyTorchTutorials/blob/main/Tutorial1.ipynb\" target=\"_parent\"><img src=\"https://colab.research.google.com/assets/colab-badge.svg\" alt=\"Open In Colab\"/></a>"
      ]
    },
    {
      "cell_type": "code",
      "execution_count": null,
      "metadata": {
        "id": "Sk25Dti2Myid"
      },
      "outputs": [],
      "source": [
        "import torch\n",
        "import numpy as np"
      ]
    },
    {
      "cell_type": "markdown",
      "source": [
        "# create tensor, view, device"
      ],
      "metadata": {
        "id": "SEsk5r3ykAdh"
      }
    },
    {
      "cell_type": "code",
      "source": [
        "torch.empty(3)"
      ],
      "metadata": {
        "id": "FkSbMBWh2LNt"
      },
      "execution_count": null,
      "outputs": []
    },
    {
      "cell_type": "code",
      "source": [
        "torch.rand(2,2)"
      ],
      "metadata": {
        "id": "uarDx35GDmH_"
      },
      "execution_count": null,
      "outputs": []
    },
    {
      "cell_type": "code",
      "source": [
        "torch.zeros(4)"
      ],
      "metadata": {
        "id": "1ZRmW8lQDvDd"
      },
      "execution_count": null,
      "outputs": []
    },
    {
      "cell_type": "code",
      "source": [
        "torch.ones(3,3, dtype=torch.float64)"
      ],
      "metadata": {
        "id": "huieZ4msD0-M"
      },
      "execution_count": null,
      "outputs": []
    },
    {
      "cell_type": "code",
      "source": [
        "x = torch.tensor([2.3,2])"
      ],
      "metadata": {
        "id": "gt0Om4BgEDHB"
      },
      "execution_count": null,
      "outputs": []
    },
    {
      "cell_type": "code",
      "source": [
        "y = torch.add(x,x)\n",
        "y.add_(x)\n",
        "y"
      ],
      "metadata": {
        "id": "1hjf6y-FEZUL"
      },
      "execution_count": null,
      "outputs": []
    },
    {
      "cell_type": "code",
      "source": [
        "x = torch.rand(4,4)\n",
        "x"
      ],
      "metadata": {
        "id": "lF_HEmJpFBWF"
      },
      "execution_count": null,
      "outputs": []
    },
    {
      "cell_type": "code",
      "source": [
        "x.view(2,8)"
      ],
      "metadata": {
        "id": "UwWow3V9Fszk"
      },
      "execution_count": null,
      "outputs": []
    },
    {
      "cell_type": "code",
      "source": [
        "x.view(-1, 8)"
      ],
      "metadata": {
        "id": "xTzfGhw7GAg8"
      },
      "execution_count": null,
      "outputs": []
    },
    {
      "cell_type": "code",
      "source": [
        "x = torch.ones(6)"
      ],
      "metadata": {
        "id": "LLMpnEheGKmq"
      },
      "execution_count": null,
      "outputs": []
    },
    {
      "cell_type": "code",
      "source": [
        "y = x.numpy()\n",
        "y"
      ],
      "metadata": {
        "id": "bk4rQP1dGYWm"
      },
      "execution_count": null,
      "outputs": []
    },
    {
      "cell_type": "code",
      "source": [
        "x.add_(1)"
      ],
      "metadata": {
        "id": "0ISJMCUGGdAD"
      },
      "execution_count": null,
      "outputs": []
    },
    {
      "cell_type": "code",
      "source": [
        "z = torch.from_numpy(y)\n",
        "z"
      ],
      "metadata": {
        "id": "fs0ObBcBGzDw"
      },
      "execution_count": null,
      "outputs": []
    },
    {
      "cell_type": "code",
      "source": [
        "if torch.cuda.is_available():\n",
        "    device = torch.device('cuda')\n",
        "    x = torch.ones(5, device=device)\n",
        "    y = torch.ones(5)\n",
        "    y = y.to(device)\n",
        "    z = x + y\n",
        "    z.to('cpu')"
      ],
      "metadata": {
        "id": "7FTZ-YJ7HH1W"
      },
      "execution_count": null,
      "outputs": []
    },
    {
      "cell_type": "code",
      "source": [
        "x = torch.ones(5, requires_grad=True)\n",
        "x"
      ],
      "metadata": {
        "id": "xZLNLjpAHvDo"
      },
      "execution_count": null,
      "outputs": []
    },
    {
      "cell_type": "markdown",
      "source": [
        "# gradient calculation with autograd, detach()"
      ],
      "metadata": {
        "id": "dNEylW4VIOG2"
      }
    },
    {
      "cell_type": "code",
      "source": [
        "# requires_grad=True записывает в дифференцирование данный элемент, обязательно в конце цикла выключить его\n",
        "x = torch.randn(3, requires_grad=True)\n",
        "# функция должна быть функцией суммы, так как это сумма по всем элементам тензора\n",
        "y = ((x+2)**2).sum()"
      ],
      "metadata": {
        "id": "Ei9OWTwsIThT"
      },
      "execution_count": null,
      "outputs": []
    },
    {
      "cell_type": "code",
      "source": [
        "# y.backward(torch.ones(y.shape)) - не обязательно, но в скобках указываем размерность тензора градиента\n",
        "y.backward()"
      ],
      "metadata": {
        "id": "fMM_0pwKXl0y"
      },
      "execution_count": null,
      "outputs": []
    },
    {
      "cell_type": "code",
      "source": [
        "x.grad"
      ],
      "metadata": {
        "id": "Qa7iIWNXZKwt"
      },
      "execution_count": null,
      "outputs": []
    },
    {
      "cell_type": "code",
      "source": [
        "x = torch.randn(3, requires_grad=True)\n",
        "# detach() возвращает новый тензор, отсоединенный от текущего графа \n",
        "y = x.detach()\n",
        "x,y"
      ],
      "metadata": {
        "id": "7AG9fX3YMN2-"
      },
      "execution_count": null,
      "outputs": []
    },
    {
      "cell_type": "code",
      "source": [
        "x = torch.randn(3, requires_grad=True)\n",
        "y1 = x + 2\n",
        "with torch.no_grad():\n",
        "    y = x + 2\n",
        "\n",
        "x, y, y1\n",
        "# grad_fn=<AddBackward0> - указывает с каким тензором продолжаются операции в графе"
      ],
      "metadata": {
        "id": "B9eA9b7_On3m"
      },
      "execution_count": null,
      "outputs": []
    },
    {
      "cell_type": "markdown",
      "source": [
        "# grad.zero_()"
      ],
      "metadata": {
        "id": "x2V7NPs6jz3U"
      }
    },
    {
      "cell_type": "code",
      "source": [
        "weights = torch.ones(4, requires_grad=True)\n",
        "\n",
        "for epoch in range(3):\n",
        "    model_output = (weights*3).sum()\n",
        "    model_output.backward()\n",
        "    print(weights.grad)\n",
        "    # является обязательной операцией, иначе в графе значение градиента будут рассчитанные в этом узле\n",
        "    # grad.zero_() обнуляет градиент\n",
        "    weights.grad.zero_()"
      ],
      "metadata": {
        "id": "m8CMSNsNPUHq"
      },
      "execution_count": null,
      "outputs": []
    }
  ]
}