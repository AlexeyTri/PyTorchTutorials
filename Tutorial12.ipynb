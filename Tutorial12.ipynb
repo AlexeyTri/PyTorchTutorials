{
  "nbformat": 4,
  "nbformat_minor": 0,
  "metadata": {
    "colab": {
      "provenance": [],
      "toc_visible": true,
      "authorship_tag": "ABX9TyNrMEgmkc+AjdJs68rC/gAx",
      "include_colab_link": true
    },
    "kernelspec": {
      "name": "python3",
      "display_name": "Python 3"
    },
    "language_info": {
      "name": "python"
    }
  },
  "cells": [
    {
      "cell_type": "markdown",
      "metadata": {
        "id": "view-in-github",
        "colab_type": "text"
      },
      "source": [
        "<a href=\"https://colab.research.google.com/github/AlexeyTri/PyTorchTutorials/blob/main/Tutorial12.ipynb\" target=\"_parent\"><img src=\"https://colab.research.google.com/assets/colab-badge.svg\" alt=\"Open In Colab\"/></a>"
      ]
    },
    {
      "cell_type": "markdown",
      "source": [
        "**Transfer learning**"
      ],
      "metadata": {
        "id": "j9RGI6Z-jKtD"
      }
    },
    {
      "cell_type": "code",
      "execution_count": 11,
      "metadata": {
        "id": "Sk25Dti2Myid"
      },
      "outputs": [],
      "source": [
        "import torch\n",
        "import torch.nn as nn\n",
        "import torch.optim as optim\n",
        "from torch.optim import lr_scheduler\n",
        "import torchvision\n",
        "from torchvision import datasets, models, transforms\n",
        "import numpy as np\n",
        "import matplotlib.pyplot as plt\n",
        "import time\n",
        "import os\n",
        "import copy"
      ]
    },
    {
      "cell_type": "code",
      "source": [
        "from google.colab import drive\n",
        "drive.mount('/gdrive')\n",
        "%cd /gdrive"
      ],
      "metadata": {
        "colab": {
          "base_uri": "https://localhost:8080/"
        },
        "id": "DIKBN3gNothN",
        "outputId": "6b46bf97-ca17-4843-9a99-630bfb1bdec5"
      },
      "execution_count": 12,
      "outputs": [
        {
          "output_type": "stream",
          "name": "stdout",
          "text": [
            "Drive already mounted at /gdrive; to attempt to forcibly remount, call drive.mount(\"/gdrive\", force_remount=True).\n",
            "/gdrive\n"
          ]
        }
      ]
    },
    {
      "cell_type": "markdown",
      "source": [
        "# transform data"
      ],
      "metadata": {
        "id": "2C0GESBpo-o9"
      }
    },
    {
      "cell_type": "code",
      "source": [
        "mean = np.array([0.5,0.5,0.5])\n",
        "std = np.array([0.25,0.25,0.25])"
      ],
      "metadata": {
        "id": "lus-mzpJpFel"
      },
      "execution_count": 13,
      "outputs": []
    },
    {
      "cell_type": "code",
      "source": [
        "data_transforms = {\n",
        "    'train': transforms.Compose([\n",
        "        transforms.RandomResizedCrop(224),\n",
        "        transforms.RandomHorizontalFlip(),\n",
        "        transforms.ToTensor(),\n",
        "        transforms.Normalize(mean, std)]),\n",
        "    'val': transforms.Compose([\n",
        "        transforms.Resize(256),\n",
        "        transforms.CenterCrop(224),\n",
        "        transforms.ToTensor(),\n",
        "        transforms.Normalize(mean, std)])\n",
        "}"
      ],
      "metadata": {
        "id": "yGFy8YLgpbE0"
      },
      "execution_count": 14,
      "outputs": []
    },
    {
      "cell_type": "markdown",
      "source": [
        "# data"
      ],
      "metadata": {
        "id": "8sOmt3Ryrb-7"
      }
    },
    {
      "cell_type": "code",
      "source": [
        "data_dir = '/gdrive/MyDrive/hymenoptera_data'\n",
        "image_datasets = {x: datasets.ImageFolder(os.path.join(data_dir, x),\n",
        "                                          data_transforms[x])\n",
        "                 for x in ['train', 'val']}\n",
        "dataloaders = {x: torch.utils.data.DataLoader(image_datasets[x], batch_size=4,\n",
        "                                              shuffle=True, num_workers=0)\n",
        "               for x in ['train', 'val']}\n",
        "dataset_sizes = {x: len(image_datasets[x]) for x in ['train','val']}\n",
        "class_names = image_datasets['train'].classes\n",
        "device = torch.device('cuda:0' if torch.cuda.is_available() else 'cpu')\n",
        "class_names"
      ],
      "metadata": {
        "colab": {
          "base_uri": "https://localhost:8080/"
        },
        "id": "dQMVnYJLrhij",
        "outputId": "c7b5e918-6eed-464c-efc9-67cecb81982d"
      },
      "execution_count": 15,
      "outputs": [
        {
          "output_type": "execute_result",
          "data": {
            "text/plain": [
              "['ants', 'bees']"
            ]
          },
          "metadata": {},
          "execution_count": 15
        }
      ]
    },
    {
      "cell_type": "code",
      "source": [
        "def imshow(inp, title):\n",
        "    '''Imshow for Tensor'''\n",
        "    inp = inp.numpy().transpose((1,2,0))\n",
        "    inp = std * inp + mean\n",
        "    inp = np.clip(inp, 0, 1)\n",
        "    plt.imshow(inp)\n",
        "    plt.title(title)\n",
        "    plt.show()"
      ],
      "metadata": {
        "id": "yYyQwvRRv_N9"
      },
      "execution_count": 16,
      "outputs": []
    },
    {
      "cell_type": "code",
      "source": [
        "# get a batch of training data\n",
        "inputs, classes = next(iter(dataloaders['train']))\n",
        "\n",
        "# make a grid from batch\n",
        "out = torchvision.utils.make_grid(inputs)\n",
        "\n",
        "imshow(out, title=[class_names[x] for x in classes])"
      ],
      "metadata": {
        "colab": {
          "base_uri": "https://localhost:8080/",
          "height": 148
        },
        "id": "8xgo-uC0xIEN",
        "outputId": "7089599f-dee5-4b55-f48a-1f0728d286ab"
      },
      "execution_count": 17,
      "outputs": [
        {
          "output_type": "display_data",
          "data": {
            "text/plain": [
              "<Figure size 432x288 with 1 Axes>"
            ],
            "image/png": "[encoded data removed]"
          },
          "metadata": {
            "needs_background": "light"
          }
        }
      ]
    },
    {
      "cell_type": "markdown",
      "source": [
        "# trainig function"
      ],
      "metadata": {
        "id": "Ss5L7drfycVJ"
      }
    },
    {
      "cell_type": "code",
      "source": [
        "def train_model(model, criterion, optimizer, scheduler, num_epochs=25):\n",
        "    since = time.time()\n",
        "\n",
        "    best_model_wts = copy.deepcopy(model.state_dict())\n",
        "    best_acc = 0.0\n",
        "\n",
        "    for epoch in range(num_epochs):\n",
        "        print('Epoch {}/{}'.format(epoch, num_epochs -1))\n",
        "        print('-' * 10)\n",
        "\n",
        "        # Each epoch has a training and validation phase\n",
        "        for phase in ['train','val']:\n",
        "            if phase == 'train':\n",
        "                model.train() # set model to training mode\n",
        "            else:\n",
        "                model.eval() # set model to evaluate mode\n",
        "\n",
        "            running_loss = 0.0\n",
        "            running_corrects = 0\n",
        "\n",
        "            # itarete over data\n",
        "            for inputs, labels in dataloaders[phase]:\n",
        "                inputs = inputs.to(device)\n",
        "                labels = labels.to(device)\n",
        "\n",
        "                # forward. track history if only in train\n",
        "                with torch.set_grad_enabled(phase == 'train'):\n",
        "                    outputs = model(inputs)\n",
        "                    _, preds = torch.max(outputs, 1)\n",
        "                    loss = criterion(outputs, labels)\n",
        "\n",
        "                    # backward + optimize only if in training phase\n",
        "                    if phase == 'train':\n",
        "                        optimizer.zero_grad()\n",
        "                        loss.backward()\n",
        "                        optimizer.step()\n",
        "\n",
        "                # statistics\n",
        "                running_loss += loss.item() * inputs.size(0)\n",
        "                running_corrects += torch.sum(preds == labels.data)\n",
        "\n",
        "            if phase == 'train':\n",
        "                scheduler.step()\n",
        "\n",
        "            epoch_loss = running_loss/dataset_sizes[phase]\n",
        "            epoch_acc = running_corrects.double() / dataset_sizes[phase]\n",
        "\n",
        "            print('{} Loss: {:.4f} Acc: {:.4f}'.format(phase, epoch_loss, epoch_acc))\n",
        "\n",
        "            # deep copy the model\n",
        "            if phase == 'val' and epoch_acc > best_acc:\n",
        "                best_acc = epoch_acc\n",
        "                best_model_wts = copy.deepcopy(model.state_dict())\n",
        "        print()\n",
        "    \n",
        "    time_elapsed = time.time()  - since\n",
        "    print('Training complete in {:.0f}m {:.0f}s'.format(time_elapsed // 60, time_elapsed % 60))\n",
        "    print('Best val Acc: {:.4f}'.format(best_acc))\n",
        "\n",
        "    # load best model weights\n",
        "    model.load_state_dict(best_model_wts)\n",
        "    return model"
      ],
      "metadata": {
        "id": "s2wbVd9HygWX"
      },
      "execution_count": 23,
      "outputs": []
    },
    {
      "cell_type": "markdown",
      "source": [
        "# fine tuning\n",
        "\n",
        "* load a pratrained model and reset final fully connected layer"
      ],
      "metadata": {
        "id": "CodESUqXFKwo"
      }
    },
    {
      "cell_type": "code",
      "source": [
        "model = models.resnet18(pretrained=True)\n",
        "num_ftrs = model.fc.in_features\n",
        "# here the size of each output sample is set to 2\n",
        "# alternatively, it can be generalized to nn.Linear(num_ftrs, len(class_names))\n",
        "model.fc = nn.Linear(num_ftrs, 2)"
      ],
      "metadata": {
        "id": "lELS_nM5FdsD"
      },
      "execution_count": null,
      "outputs": []
    },
    {
      "cell_type": "code",
      "source": [
        "model.to(device)\n",
        "criterion = nn.CrossEntropyLoss()\n",
        "# observe that all parameters are being optimized\n",
        "optimizer = optim.SGD(model.parameters(), lr=0.001)"
      ],
      "metadata": {
        "id": "c7gYHESLIYzp"
      },
      "execution_count": 21,
      "outputs": []
    },
    {
      "cell_type": "code",
      "source": [
        "step_lr_scheduler = lr_scheduler.StepLR(optimizer, step_size=7, gamma=0.1)\n",
        "model = train_model(model, criterion, optimizer, step_lr_scheduler, num_epochs=25)"
      ],
      "metadata": {
        "colab": {
          "base_uri": "https://localhost:8080/"
        },
        "id": "B7T5JxCYJCkG",
        "outputId": "f5d89983-c37f-49ff-9023-bbe84426c372"
      },
      "execution_count": 24,
      "outputs": [
        {
          "output_type": "stream",
          "name": "stdout",
          "text": [
            "Epoch 0/24\n",
            "----------\n",
            "train Loss: 0.6088 Acc: 0.6885\n",
            "val Loss: 0.3805 Acc: 0.8824\n",
            "\n",
            "Epoch 1/24\n",
            "----------\n",
            "train Loss: 0.5265 Acc: 0.7746\n",
            "val Loss: 0.3126 Acc: 0.9281\n",
            "\n",
            "Epoch 2/24\n",
            "----------\n",
            "train Loss: 0.4212 Acc: 0.8402\n",
            "val Loss: 0.2569 Acc: 0.9281\n",
            "\n",
            "Epoch 3/24\n",
            "----------\n",
            "train Loss: 0.4123 Acc: 0.7951\n",
            "val Loss: 0.2418 Acc: 0.9150\n",
            "\n",
            "Epoch 4/24\n",
            "----------\n",
            "train Loss: 0.4149 Acc: 0.8197\n",
            "val Loss: 0.2202 Acc: 0.9346\n",
            "\n",
            "Epoch 5/24\n",
            "----------\n",
            "train Loss: 0.3950 Acc: 0.8197\n",
            "val Loss: 0.2054 Acc: 0.9346\n",
            "\n",
            "Epoch 6/24\n",
            "----------\n",
            "train Loss: 0.3795 Acc: 0.8361\n",
            "val Loss: 0.2093 Acc: 0.9281\n",
            "\n",
            "Epoch 7/24\n",
            "----------\n",
            "train Loss: 0.4090 Acc: 0.7992\n",
            "val Loss: 0.2147 Acc: 0.9216\n",
            "\n",
            "Epoch 8/24\n",
            "----------\n",
            "train Loss: 0.3977 Acc: 0.8279\n",
            "val Loss: 0.2081 Acc: 0.9150\n",
            "\n",
            "Epoch 9/24\n",
            "----------\n",
            "train Loss: 0.3896 Acc: 0.8402\n",
            "val Loss: 0.2279 Acc: 0.9020\n",
            "\n",
            "Epoch 10/24\n",
            "----------\n",
            "train Loss: 0.3410 Acc: 0.8566\n",
            "val Loss: 0.1974 Acc: 0.9346\n",
            "\n",
            "Epoch 11/24\n",
            "----------\n",
            "train Loss: 0.3753 Acc: 0.8197\n",
            "val Loss: 0.2030 Acc: 0.9216\n",
            "\n",
            "Epoch 12/24\n",
            "----------\n",
            "train Loss: 0.3675 Acc: 0.8402\n",
            "val Loss: 0.2084 Acc: 0.9216\n",
            "\n",
            "Epoch 13/24\n",
            "----------\n",
            "train Loss: 0.3512 Acc: 0.8525\n",
            "val Loss: 0.1999 Acc: 0.9346\n",
            "\n",
            "Epoch 14/24\n",
            "----------\n",
            "train Loss: 0.3161 Acc: 0.8893\n",
            "val Loss: 0.1972 Acc: 0.9477\n",
            "\n",
            "Epoch 15/24\n",
            "----------\n",
            "train Loss: 0.3538 Acc: 0.8566\n",
            "val Loss: 0.2043 Acc: 0.9216\n",
            "\n",
            "Epoch 16/24\n",
            "----------\n",
            "train Loss: 0.3121 Acc: 0.8893\n",
            "val Loss: 0.1982 Acc: 0.9412\n",
            "\n",
            "Epoch 17/24\n",
            "----------\n",
            "train Loss: 0.3124 Acc: 0.8730\n",
            "val Loss: 0.2001 Acc: 0.9216\n",
            "\n",
            "Epoch 18/24\n",
            "----------\n",
            "train Loss: 0.3364 Acc: 0.8811\n",
            "val Loss: 0.2037 Acc: 0.9281\n",
            "\n",
            "Epoch 19/24\n",
            "----------\n",
            "train Loss: 0.3211 Acc: 0.8607\n",
            "val Loss: 0.1947 Acc: 0.9477\n",
            "\n",
            "Epoch 20/24\n",
            "----------\n",
            "train Loss: 0.3403 Acc: 0.8607\n",
            "val Loss: 0.1924 Acc: 0.9477\n",
            "\n",
            "Epoch 21/24\n",
            "----------\n",
            "train Loss: 0.3097 Acc: 0.8689\n",
            "val Loss: 0.1928 Acc: 0.9477\n",
            "\n",
            "Epoch 22/24\n",
            "----------\n",
            "train Loss: 0.5041 Acc: 0.7500\n",
            "val Loss: 0.1930 Acc: 0.9477\n",
            "\n",
            "Epoch 23/24\n",
            "----------\n",
            "train Loss: 0.3432 Acc: 0.8402\n",
            "val Loss: 0.2090 Acc: 0.9216\n",
            "\n",
            "Epoch 24/24\n",
            "----------\n",
            "train Loss: 0.3464 Acc: 0.8566\n",
            "val Loss: 0.1952 Acc: 0.9477\n",
            "\n",
            "Training complete in 38m 19s\n",
            "Best val Acc: 0.9477\n"
          ]
        }
      ]
    },
    {
      "cell_type": "markdown",
      "source": [
        "# ConvNet as fixed feature extractor\n",
        "\n",
        "* Here, we need to freeze all the network except the final layer.\n",
        "*  We need to set requires_grad == False to freeze the parameters so that the gradients are not computed in backward()"
      ],
      "metadata": {
        "id": "AxIm_w__K8i9"
      }
    },
    {
      "cell_type": "code",
      "source": [
        "model_conv = torchvision.models.resnet18(pretrained=True)\n",
        "for param in model_conv.parameters():\n",
        "    param.requires_grad = False"
      ],
      "metadata": {
        "colab": {
          "base_uri": "https://localhost:8080/"
        },
        "id": "WIZdwmpGLKcF",
        "outputId": "c751e634-6a81-4e87-d635-ac2bb9ff044d"
      },
      "execution_count": 25,
      "outputs": [
        {
          "output_type": "stream",
          "name": "stderr",
          "text": [
            "/usr/local/lib/python3.8/dist-packages/torchvision/models/_utils.py:208: UserWarning: The parameter 'pretrained' is deprecated since 0.13 and may be removed in the future, please use 'weights' instead.\n",
            "  warnings.warn(\n",
            "/usr/local/lib/python3.8/dist-packages/torchvision/models/_utils.py:223: UserWarning: Arguments other than a weight enum or `None` for 'weights' are deprecated since 0.13 and may be removed in the future. The current behavior is equivalent to passing `weights=ResNet18_Weights.IMAGENET1K_V1`. You can also use `weights=ResNet18_Weights.DEFAULT` to get the most up-to-date weights.\n",
            "  warnings.warn(msg)\n"
          ]
        }
      ]
    },
    {
      "cell_type": "code",
      "source": [
        "# parameters of newly constractes modules have requires_grad=True by default\n",
        "num_ftrs = model_conv.fc.in_features\n",
        "model_conv.fc = nn.Linear(num_ftrs, 2)"
      ],
      "metadata": {
        "id": "MvA_lPTpLqvD"
      },
      "execution_count": 26,
      "outputs": []
    },
    {
      "cell_type": "code",
      "source": [
        "model_conv = model_conv.to(device)\n",
        "criterion = nn.CrossEntropyLoss()"
      ],
      "metadata": {
        "id": "RA61vFkpMQUv"
      },
      "execution_count": 27,
      "outputs": []
    },
    {
      "cell_type": "code",
      "source": [
        "# observe that only parameters of final layer are being optimized as opposed to before\n",
        "optimizer_conv = optim.SGD(model_conv.fc.parameters(), lr=0.001, momentum=0.9)\n",
        "# decay LR by a factor of 0.1 every 7 epochs\n",
        "exp_lr_scheduler = lr_scheduler.StepLR(optimizer_conv, step_size=7, gamma=0.1)\n",
        "model_conv =  train_model(model_conv, criterion, optimizer_conv, exp_lr_scheduler, num_epochs=25)"
      ],
      "metadata": {
        "colab": {
          "base_uri": "https://localhost:8080/"
        },
        "id": "TTeu3P7tMesp",
        "outputId": "39e408ec-2d47-4ed2-b3b7-ed3bd2b257c5"
      },
      "execution_count": 29,
      "outputs": [
        {
          "output_type": "stream",
          "name": "stdout",
          "text": [
            "Epoch 0/24\n",
            "----------\n",
            "train Loss: 0.6538 Acc: 0.6926\n",
            "val Loss: 0.3698 Acc: 0.8170\n",
            "\n",
            "Epoch 1/24\n",
            "----------\n",
            "train Loss: 0.5963 Acc: 0.7254\n",
            "val Loss: 0.2586 Acc: 0.8954\n",
            "\n",
            "Epoch 2/24\n",
            "----------\n",
            "train Loss: 0.4613 Acc: 0.7910\n",
            "val Loss: 0.2368 Acc: 0.9020\n",
            "\n",
            "Epoch 3/24\n",
            "----------\n",
            "train Loss: 0.6097 Acc: 0.7541\n",
            "val Loss: 0.2164 Acc: 0.9216\n",
            "\n",
            "Epoch 4/24\n",
            "----------\n",
            "train Loss: 0.6978 Acc: 0.7623\n",
            "val Loss: 0.2396 Acc: 0.9085\n",
            "\n",
            "Epoch 5/24\n",
            "----------\n",
            "train Loss: 0.4373 Acc: 0.8033\n",
            "val Loss: 0.2005 Acc: 0.9412\n",
            "\n",
            "Epoch 6/24\n",
            "----------\n",
            "train Loss: 0.4295 Acc: 0.8443\n",
            "val Loss: 0.1953 Acc: 0.9412\n",
            "\n",
            "Epoch 7/24\n",
            "----------\n",
            "train Loss: 0.3536 Acc: 0.8566\n",
            "val Loss: 0.2175 Acc: 0.9346\n",
            "\n",
            "Epoch 8/24\n",
            "----------\n",
            "train Loss: 0.2910 Acc: 0.8811\n",
            "val Loss: 0.1999 Acc: 0.9412\n",
            "\n",
            "Epoch 9/24\n",
            "----------\n",
            "train Loss: 0.3302 Acc: 0.8361\n",
            "val Loss: 0.2237 Acc: 0.9150\n",
            "\n",
            "Epoch 10/24\n",
            "----------\n",
            "train Loss: 0.4722 Acc: 0.8033\n",
            "val Loss: 0.2681 Acc: 0.9020\n",
            "\n",
            "Epoch 11/24\n",
            "----------\n",
            "train Loss: 0.3018 Acc: 0.8770\n",
            "val Loss: 0.2025 Acc: 0.9412\n",
            "\n",
            "Epoch 12/24\n",
            "----------\n",
            "train Loss: 0.3588 Acc: 0.8566\n",
            "val Loss: 0.1973 Acc: 0.9412\n",
            "\n",
            "Epoch 13/24\n",
            "----------\n",
            "train Loss: 0.3180 Acc: 0.8443\n",
            "val Loss: 0.1934 Acc: 0.9412\n",
            "\n",
            "Epoch 14/24\n",
            "----------\n",
            "train Loss: 0.3904 Acc: 0.8115\n",
            "val Loss: 0.2197 Acc: 0.9150\n",
            "\n",
            "Epoch 15/24\n",
            "----------\n",
            "train Loss: 0.2934 Acc: 0.8852\n",
            "val Loss: 0.1958 Acc: 0.9346\n",
            "\n",
            "Epoch 16/24\n",
            "----------\n",
            "train Loss: 0.2746 Acc: 0.8934\n",
            "val Loss: 0.2136 Acc: 0.9412\n",
            "\n",
            "Epoch 17/24\n",
            "----------\n",
            "train Loss: 0.2852 Acc: 0.8770\n",
            "val Loss: 0.1925 Acc: 0.9412\n",
            "\n",
            "Epoch 18/24\n",
            "----------\n",
            "train Loss: 0.3326 Acc: 0.8361\n",
            "val Loss: 0.2247 Acc: 0.9150\n",
            "\n",
            "Epoch 19/24\n",
            "----------\n",
            "train Loss: 0.2749 Acc: 0.8811\n",
            "val Loss: 0.2024 Acc: 0.9346\n",
            "\n",
            "Epoch 20/24\n",
            "----------\n",
            "train Loss: 0.2715 Acc: 0.8893\n",
            "val Loss: 0.2308 Acc: 0.9150\n",
            "\n",
            "Epoch 21/24\n",
            "----------\n",
            "train Loss: 0.4076 Acc: 0.8361\n",
            "val Loss: 0.2178 Acc: 0.9281\n",
            "\n",
            "Epoch 22/24\n",
            "----------\n",
            "train Loss: 0.3391 Acc: 0.8689\n",
            "val Loss: 0.2209 Acc: 0.9281\n",
            "\n",
            "Epoch 23/24\n",
            "----------\n",
            "train Loss: 0.3501 Acc: 0.8689\n",
            "val Loss: 0.2313 Acc: 0.9150\n",
            "\n",
            "Epoch 24/24\n",
            "----------\n",
            "train Loss: 0.3795 Acc: 0.8115\n",
            "val Loss: 0.1954 Acc: 0.9346\n",
            "\n",
            "Training complete in 19m 31s\n",
            "Best val Acc: 0.9412\n"
          ]
        }
      ]
    }
  ]
}