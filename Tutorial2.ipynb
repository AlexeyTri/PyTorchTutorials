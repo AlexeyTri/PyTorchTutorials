{
  "nbformat": 4,
  "nbformat_minor": 0,
  "metadata": {
    "colab": {
      "provenance": [],
      "toc_visible": true,
      "authorship_tag": "ABX9TyMSqgLn3paENiE/UeBVxx1b",
      "include_colab_link": true
    },
    "kernelspec": {
      "name": "python3",
      "display_name": "Python 3"
    },
    "language_info": {
      "name": "python"
    }
  },
  "cells": [
    {
      "cell_type": "markdown",
      "metadata": {
        "id": "view-in-github",
        "colab_type": "text"
      },
      "source": [
        "<a href=\"https://colab.research.google.com/github/AlexeyTri/PyTorchTutorials/blob/main/Tutorial2.ipynb\" target=\"_parent\"><img src=\"https://colab.research.google.com/assets/colab-badge.svg\" alt=\"Open In Colab\"/></a>"
      ]
    },
    {
      "cell_type": "markdown",
      "source": [
        "# Backpropagation\n",
        "\n",
        "* forward pass loss function\n",
        "* local gradients\n",
        "* backward pass "
      ],
      "metadata": {
        "id": "uuiTqboIl2Px"
      }
    },
    {
      "cell_type": "code",
      "execution_count": null,
      "metadata": {
        "id": "Sk25Dti2Myid"
      },
      "outputs": [],
      "source": [
        "import torch\n",
        "import numpy as np"
      ]
    },
    {
      "cell_type": "code",
      "source": [
        "x = torch.tensor(1.0)\n",
        "y = torch.tensor(2.0)\n",
        "# зададим начальное приближение\n",
        "w = torch.tensor(1.0, requires_grad=True)"
      ],
      "metadata": {
        "id": "5Z88WUGlrVR9"
      },
      "execution_count": null,
      "outputs": []
    },
    {
      "cell_type": "code",
      "source": [
        "y_hat = x * w\n",
        "# forward pass loss function\n",
        "loss = (y_hat - y) ** 2\n",
        "loss"
      ],
      "metadata": {
        "colab": {
          "base_uri": "https://localhost:8080/"
        },
        "id": "iMOBuBdnrsla",
        "outputId": "28046bfc-15f6-4055-ac7d-08caece8a036"
      },
      "execution_count": null,
      "outputs": [
        {
          "output_type": "execute_result",
          "data": {
            "text/plain": [
              "tensor(1., grad_fn=<PowBackward0>)"
            ]
          },
          "metadata": {},
          "execution_count": 4
        }
      ]
    },
    {
      "cell_type": "code",
      "source": [
        "# backward pass\n",
        "loss.backward()\n",
        "w.grad"
      ],
      "metadata": {
        "colab": {
          "base_uri": "https://localhost:8080/"
        },
        "id": "rbkcpD1ur_MH",
        "outputId": "f7a04c8c-51fe-4774-8e24-a2df50f70a4b"
      },
      "execution_count": null,
      "outputs": [
        {
          "output_type": "execute_result",
          "data": {
            "text/plain": [
              "tensor(-2.)"
            ]
          },
          "metadata": {},
          "execution_count": 5
        }
      ]
    },
    {
      "cell_type": "code",
      "source": [
        "# update weights\n",
        "# next foeward and backward"
      ],
      "metadata": {
        "id": "0wUfKvvbsbWD"
      },
      "execution_count": null,
      "outputs": []
    },
    {
      "cell_type": "markdown",
      "source": [
        "# 4 steps learning\n",
        "\n",
        "\n",
        "\n",
        "1.   prediction: PyTorch Model\n",
        "2.   gradient computation: Autograd\n",
        "3.   loss computation: PyTorch Loss\n",
        "4.   parameter update: PyTorch Optimizer"
      ],
      "metadata": {
        "id": "Wm81Xy5StQJZ"
      }
    },
    {
      "cell_type": "markdown",
      "source": [
        "## numpy"
      ],
      "metadata": {
        "id": "XrAYHTu00E9j"
      }
    },
    {
      "cell_type": "code",
      "source": [
        "X = np.array([1.,2.,3.,4.], dtype=np.float32)\n",
        "Y = np.array([2.,4.,6.,8.], dtype=np.float32)\n",
        "w = 0.0"
      ],
      "metadata": {
        "id": "4z2-7bQCuatd"
      },
      "execution_count": null,
      "outputs": []
    },
    {
      "cell_type": "code",
      "source": [
        "# prediction\n",
        "def forward(x):\n",
        "    return w * X"
      ],
      "metadata": {
        "id": "-08WNNYYu4hB"
      },
      "execution_count": null,
      "outputs": []
    },
    {
      "cell_type": "code",
      "source": [
        "# loss MSE\n",
        "def loss(y,y_pred):\n",
        "    return ((y_pred - y)**2).mean()"
      ],
      "metadata": {
        "id": "WtM-G97HvCW8"
      },
      "execution_count": null,
      "outputs": []
    },
    {
      "cell_type": "code",
      "source": [
        "# gradient\n",
        "# MSE = 1/N 2x (w*x - y)\n",
        "# dL/dw = 2/N x (w*x - y)\n",
        "def grad(x,y, y_pred):\n",
        "    return np.dot(2*x, (y_pred - y)).mean()"
      ],
      "metadata": {
        "id": "X2L1GEV0vT_A"
      },
      "execution_count": null,
      "outputs": []
    },
    {
      "cell_type": "code",
      "source": [
        "print('Prediction before training: f(x) = {}'.format(forward(X)))"
      ],
      "metadata": {
        "colab": {
          "base_uri": "https://localhost:8080/"
        },
        "id": "UmcQYy7LwPiq",
        "outputId": "5f932697-0e5c-48c9-c2db-700e6fb8af87"
      },
      "execution_count": null,
      "outputs": [
        {
          "output_type": "stream",
          "name": "stdout",
          "text": [
            "Prediction before training: f(x) = [0. 0. 0. 0.]\n"
          ]
        }
      ]
    },
    {
      "cell_type": "code",
      "source": [
        "# trainig\n",
        "learning_rate = 0.01\n",
        "n_iters = 10\n",
        "\n",
        "for epoch in range(n_iters):\n",
        "    # prediction = forward pass\n",
        "    y_pred = forward(X)\n",
        "\n",
        "    # loss\n",
        "    l = loss(Y, y_pred)\n",
        "\n",
        "    # gradients\n",
        "    dw = grad(X, Y, y_pred)\n",
        "\n",
        "    # update weights\n",
        "    w -= learning_rate * dw\n",
        "\n",
        "    if epoch % 1 == 0:\n",
        "        print(f'epoch {epoch+1}: w={w:.3f}, loss={l:.8f}')\n",
        "\n",
        "print(f'Prediction after training: f(5) = {forward(5)}')"
      ],
      "metadata": {
        "id": "k0IC4r6uwnX1"
      },
      "execution_count": null,
      "outputs": []
    },
    {
      "cell_type": "markdown",
      "source": [
        "## torch"
      ],
      "metadata": {
        "id": "uCUplDRu0H1n"
      }
    },
    {
      "cell_type": "code",
      "source": [
        "X = torch.tensor([1.,2.,3.,4.], dtype=torch.float32)\n",
        "Y = torch.tensor([2.,4.,6.,8.], dtype=torch.float32)\n",
        "w = torch.tensor(0.0, dtype=torch.float32, requires_grad=True)"
      ],
      "metadata": {
        "id": "JtOo1iS50MZo"
      },
      "execution_count": null,
      "outputs": []
    },
    {
      "cell_type": "code",
      "source": [
        "# prediction\n",
        "def forward(x):\n",
        "    return w * X"
      ],
      "metadata": {
        "id": "3qK27HiL0N6I"
      },
      "execution_count": null,
      "outputs": []
    },
    {
      "cell_type": "code",
      "source": [
        "# loss MSE\n",
        "def loss(y,y_pred):\n",
        "    return ((y_pred - y)**2).mean()"
      ],
      "metadata": {
        "id": "GC5Y20tp0Pcg"
      },
      "execution_count": null,
      "outputs": []
    },
    {
      "cell_type": "code",
      "source": [
        "# gradient\n",
        "# MSE = 1/N 2x (w*x - y)\n",
        "# dL/dw = 2/N x (w*x - y)\n",
        "def grad(x,y, y_pred):\n",
        "    return np.dot(2*x, (y_pred - y)).mean()"
      ],
      "metadata": {
        "id": "8lWAixzy0Qs5"
      },
      "execution_count": null,
      "outputs": []
    },
    {
      "cell_type": "code",
      "source": [
        "print('Prediction before training: f(x) = {}'.format(forward(X)))"
      ],
      "metadata": {
        "colab": {
          "base_uri": "https://localhost:8080/"
        },
        "id": "O4iLdH2v0SEE",
        "outputId": "6f6d7a7d-e827-4d26-b76b-830976b9e492"
      },
      "execution_count": null,
      "outputs": [
        {
          "output_type": "stream",
          "name": "stdout",
          "text": [
            "Prediction before training: f(x) = tensor([0., 0., 0., 0.], grad_fn=<MulBackward0>)\n"
          ]
        }
      ]
    },
    {
      "cell_type": "code",
      "source": [
        "# trainig\n",
        "learning_rate = 0.01\n",
        "n_iters = 30\n",
        "\n",
        "for epoch in range(n_iters):\n",
        "    # prediction = forward pass\n",
        "    y_pred = forward(X)\n",
        "\n",
        "    # loss\n",
        "    l = loss(Y, y_pred)\n",
        "\n",
        "    # gradients = backward pass\n",
        "    l.backward()\n",
        "\n",
        "    # update weights\n",
        "    with torch.no_grad():\n",
        "        w -= learning_rate * w.grad\n",
        "    #  zero gradiemts\n",
        "    w.grad.zero_()\n",
        "    if epoch % 2 == 0:\n",
        "        print(f'epoch {epoch+1}: w={w:.3f}, loss={l:.8f}')\n",
        "\n",
        "print(f'Prediction after training: f(5) = {forward(5)}')"
      ],
      "metadata": {
        "id": "wF5T3ltH0ToA"
      },
      "execution_count": null,
      "outputs": []
    }
  ]
}