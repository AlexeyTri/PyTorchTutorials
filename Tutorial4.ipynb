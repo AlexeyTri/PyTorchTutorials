{
  "nbformat": 4,
  "nbformat_minor": 0,
  "metadata": {
    "colab": {
      "provenance": [],
      "toc_visible": true,
      "authorship_tag": "ABX9TyNaQtsxlVFXOUjyJfXhdusR",
      "include_colab_link": true
    },
    "kernelspec": {
      "name": "python3",
      "display_name": "Python 3"
    },
    "language_info": {
      "name": "python"
    }
  },
  "cells": [
    {
      "cell_type": "markdown",
      "metadata": {
        "id": "view-in-github",
        "colab_type": "text"
      },
      "source": [
        "<a href=\"https://colab.research.google.com/github/AlexeyTri/PyTorchTutorials/blob/main/Tutorial4.ipynb\" target=\"_parent\"><img src=\"https://colab.research.google.com/assets/colab-badge.svg\" alt=\"Open In Colab\"/></a>"
      ]
    },
    {
      "cell_type": "markdown",
      "source": [
        "# Training pipeline\n",
        "\n",
        "- prediction: PyTorch Model\n",
        "- Gradients Computation: Autograd\n",
        "- Loss Computation: PyTorch Loss\n",
        "- Parameters updates: PyTorch Optimizer"
      ],
      "metadata": {
        "id": "uuiTqboIl2Px"
      }
    },
    {
      "cell_type": "markdown",
      "source": [
        "1 - Desing model (input, output size, forward pass)\n",
        "\n",
        "2 - Constractor loss and optimizer\n",
        "\n",
        "3 - Training loop\n",
        "\n",
        "    - forward pass: compute prediction\n",
        "\n",
        "    - backward pass: gradients\n",
        "    \n",
        "    - update weights"
      ],
      "metadata": {
        "id": "WtYCkTfTiZXu"
      }
    },
    {
      "cell_type": "code",
      "execution_count": 20,
      "metadata": {
        "id": "Sk25Dti2Myid"
      },
      "outputs": [],
      "source": [
        "import torch\n",
        "import torch.nn as nn\n",
        "import numpy as np"
      ]
    },
    {
      "cell_type": "code",
      "source": [
        "X = torch.tensor([[1.],[2.],[3.],[4.]], dtype=torch.float32)\n",
        "Y = torch.tensor([[2.],[4.],[6.],[8.]], dtype=torch.float32)\n",
        "# w = torch.tensor(0.0, dtype=torch.float32, requires_grad=True)"
      ],
      "metadata": {
        "id": "JtOo1iS50MZo"
      },
      "execution_count": 28,
      "outputs": []
    },
    {
      "cell_type": "code",
      "source": [
        "X_test = torch.tensor([5], dtype=torch.float32)"
      ],
      "metadata": {
        "id": "U9jL_6wqmgUF"
      },
      "execution_count": 29,
      "outputs": []
    },
    {
      "cell_type": "code",
      "source": [
        "n_samples, n_features = X.shape"
      ],
      "metadata": {
        "id": "H091iFAmmITI"
      },
      "execution_count": 30,
      "outputs": []
    },
    {
      "cell_type": "code",
      "source": [
        "input_size = n_features\n",
        "output_size = n_features\n",
        "# model = nn.Linear(input_size, output_size)"
      ],
      "metadata": {
        "id": "9_28L4l3ltz6"
      },
      "execution_count": 32,
      "outputs": []
    },
    {
      "cell_type": "code",
      "source": [
        "class LinearRegression(nn.Module):\n",
        "    def __init__(self, input_dim, output_dim):\n",
        "        super(LinearRegression, self).__init__()\n",
        "        # define layers\n",
        "        self.lin = nn.Linear(input_dim, output_dim)\n",
        "\n",
        "    def forward(self,x):\n",
        "        return self.lin(x)\n",
        "\n",
        "model = LinearRegression(input_size, output_size)"
      ],
      "metadata": {
        "id": "6qIxgClvo99V"
      },
      "execution_count": 37,
      "outputs": []
    },
    {
      "cell_type": "code",
      "source": [
        "# prediction\n",
        "# def forward(x):\n",
        "#     return w * X"
      ],
      "metadata": {
        "id": "3qK27HiL0N6I"
      },
      "execution_count": 13,
      "outputs": []
    },
    {
      "cell_type": "code",
      "source": [
        "print(f'Prediction before training: f(5) = {model(X_test).item():.3f}')"
      ],
      "metadata": {
        "colab": {
          "base_uri": "https://localhost:8080/"
        },
        "id": "O4iLdH2v0SEE",
        "outputId": "e4aa3377-847d-4533-b763-f2eb0912deb6"
      },
      "execution_count": 33,
      "outputs": [
        {
          "output_type": "stream",
          "name": "stdout",
          "text": [
            "Prediction before training: f(5) = 5.677\n"
          ]
        }
      ]
    },
    {
      "cell_type": "code",
      "source": [
        "# trainig\n",
        "learning_rate = 0.01\n",
        "n_iters = 100\n",
        "\n",
        "loss = nn.MSELoss()\n",
        "optimizer = torch.optim.SGD(model.parameters(), lr=learning_rate)\n",
        "\n",
        "for epoch in range(n_iters):\n",
        "    # prediction = forward pass\n",
        "    y_pred = model(X)\n",
        "\n",
        "    # loss\n",
        "    l = loss(Y, y_pred)\n",
        "\n",
        "    # gradients = backward pass\n",
        "    l.backward()\n",
        "\n",
        "    # update weights\n",
        "    optimizer.step()\n",
        "    #  zero gradiemts\n",
        "    optimizer.zero_grad()\n",
        "\n",
        "    if epoch % 10 == 0:\n",
        "        [w, b] = model.parameters()\n",
        "        print(f'epoch {epoch+1}: w = {w[0][0].item():.3f}, loss= {l:.8f}')\n",
        "\n",
        "print(f'Prediction after training: f(5) = {model(X_test).item():.3f}')"
      ],
      "metadata": {
        "id": "wF5T3ltH0ToA",
        "colab": {
          "base_uri": "https://localhost:8080/"
        },
        "outputId": "95baab68-b35c-4da5-c097-f9d6f0555306"
      },
      "execution_count": 38,
      "outputs": [
        {
          "output_type": "stream",
          "name": "stdout",
          "text": [
            "epoch 1: w = 0.067, loss= 39.40013123\n",
            "epoch 11: w = 1.510, loss= 1.08449638\n",
            "epoch 21: w = 1.747, loss= 0.08938865\n",
            "epoch 31: w = 1.791, loss= 0.06007317\n",
            "epoch 41: w = 1.803, loss= 0.05595283\n",
            "epoch 51: w = 1.809, loss= 0.05267990\n",
            "epoch 61: w = 1.815, loss= 0.04961327\n",
            "epoch 71: w = 1.821, loss= 0.04672545\n",
            "epoch 81: w = 1.826, loss= 0.04400576\n",
            "epoch 91: w = 1.831, loss= 0.04144442\n",
            "Prediction after training: f(5) = 9.661\n"
          ]
        }
      ]
    }
  ]
}