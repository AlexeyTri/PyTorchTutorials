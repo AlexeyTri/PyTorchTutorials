{
  "nbformat": 4,
  "nbformat_minor": 0,
  "metadata": {
    "colab": {
      "provenance": [],
      "toc_visible": true,
      "authorship_tag": "ABX9TyPYeSMc3aAZxPDRd0fdZ7/X",
      "include_colab_link": true
    },
    "kernelspec": {
      "name": "python3",
      "display_name": "Python 3"
    },
    "language_info": {
      "name": "python"
    }
  },
  "cells": [
    {
      "cell_type": "markdown",
      "metadata": {
        "id": "view-in-github",
        "colab_type": "text"
      },
      "source": [
        "<a href=\"https://colab.research.google.com/github/AlexeyTri/PyTorchTutorials/blob/main/Tutorial5.ipynb\" target=\"_parent\"><img src=\"https://colab.research.google.com/assets/colab-badge.svg\" alt=\"Open In Colab\"/></a>"
      ]
    },
    {
      "cell_type": "markdown",
      "source": [
        "# Training pipeline\n",
        "\n",
        "- prediction: PyTorch Model\n",
        "- Gradients Computation: Autograd\n",
        "- Loss Computation: PyTorch Loss\n",
        "- Parameters updates: PyTorch Optimizer"
      ],
      "metadata": {
        "id": "uuiTqboIl2Px"
      }
    },
    {
      "cell_type": "markdown",
      "source": [
        "1 - Desing model (input, output size, forward pass)\n",
        "\n",
        "2 - Constractor loss and optimizer\n",
        "\n",
        "3 - Training loop\n",
        "\n",
        "    - forward pass: compute prediction\n",
        "\n",
        "    - backward pass: gradients\n",
        "    \n",
        "    - update weights"
      ],
      "metadata": {
        "id": "WtYCkTfTiZXu"
      }
    },
    {
      "cell_type": "code",
      "execution_count": 39,
      "metadata": {
        "id": "Sk25Dti2Myid"
      },
      "outputs": [],
      "source": [
        "import torch\n",
        "import torch.nn as nn\n",
        "import numpy as np\n",
        "import sklearn\n",
        "from sklearn import datasets\n",
        "import matplotlib.pyplot as plt"
      ]
    },
    {
      "cell_type": "code",
      "source": [
        "X_numpy, y_numpy = datasets.make_regression(n_samples=100, n_features=1, noise=20, random_state=1)\n",
        "X = torch.from_numpy(X_numpy.astype(np.float32))\n",
        "y = torch.from_numpy(y_numpy.astype(np.float32))\n",
        "y = y.view(y.shape[0],1)"
      ],
      "metadata": {
        "id": "RjFZL3B6rC1_"
      },
      "execution_count": 40,
      "outputs": []
    },
    {
      "cell_type": "code",
      "source": [
        "# 1) model\n",
        "n_samples, n_features = X.shape\n",
        "input_size = n_features\n",
        "output_size = 1\n",
        "model = nn.Linear(input_size, output_size)"
      ],
      "metadata": {
        "id": "bqyUs4BIrpwl"
      },
      "execution_count": 41,
      "outputs": []
    },
    {
      "cell_type": "code",
      "source": [
        "# 2) loss and optimizer\n",
        "learning_rate = 0.01\n",
        "criterion = nn.MSELoss()\n",
        "optimizer = torch.optim.SGD(model.parameters(), lr=learning_rate)"
      ],
      "metadata": {
        "id": "EFfR1S_1sA6e"
      },
      "execution_count": 42,
      "outputs": []
    },
    {
      "cell_type": "code",
      "source": [
        "# 3) training loop\n",
        "num_epoch = 100\n",
        "for epoch in range(num_epoch):\n",
        "    # forward pass and loss\n",
        "    y_prediction = model(X)\n",
        "    loss = criterion(y_prediction, y)\n",
        "\n",
        "    # backward pass\n",
        "    loss.backward()\n",
        "    \n",
        "    # update\n",
        "    optimizer.step()\n",
        "    optimizer.zero_grad()\n",
        "\n",
        "    if (epoch +1) %10 == 0:\n",
        "        print(f'epoch: {epoch+1}, loss = {loss.item():.4f}')\n",
        "\n",
        "# plot\n",
        "\n",
        "predicted = model(X).detach().numpy()\n",
        "plt.plot(X_numpy, y_numpy, 'ro')\n",
        "plt.plot(X_numpy, predicted, 'b')\n",
        "plt.show()"
      ],
      "metadata": {
        "colab": {
          "base_uri": "https://localhost:8080/",
          "height": 439
        },
        "id": "sTuxneTismq1",
        "outputId": "284bf669-7c8c-44a4-bd07-3588d1b3128d"
      },
      "execution_count": 43,
      "outputs": [
        {
          "output_type": "stream",
          "name": "stdout",
          "text": [
            "epoch: 10, loss = 4443.1704\n",
            "epoch: 20, loss = 3311.8682\n",
            "epoch: 30, loss = 2493.9497\n",
            "epoch: 40, loss = 1901.9398\n",
            "epoch: 50, loss = 1472.9971\n",
            "epoch: 60, loss = 1161.9044\n",
            "epoch: 70, loss = 936.0823\n",
            "epoch: 80, loss = 772.0227\n",
            "epoch: 90, loss = 652.7437\n",
            "epoch: 100, loss = 565.9620\n"
          ]
        },
        {
          "output_type": "display_data",
          "data": {
            "text/plain": [
              "<Figure size 432x288 with 1 Axes>"
            ],
            "image/png": "[encoded data removed]"
          },
          "metadata": {
            "needs_background": "light"
          }
        }
      ]
    }
  ]
}