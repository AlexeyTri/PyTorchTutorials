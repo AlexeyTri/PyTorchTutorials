{
  "nbformat": 4,
  "nbformat_minor": 0,
  "metadata": {
    "colab": {
      "provenance": [],
      "authorship_tag": "ABX9TyN4J/PElm8J9MXNYrvu0SCe",
      "include_colab_link": true
    },
    "kernelspec": {
      "name": "python3",
      "display_name": "Python 3"
    },
    "language_info": {
      "name": "python"
    }
  },
  "cells": [
    {
      "cell_type": "markdown",
      "metadata": {
        "id": "view-in-github",
        "colab_type": "text"
      },
      "source": [
        "<a href=\"https://colab.research.google.com/github/AlexeyTri/PyTorchTutorials/blob/main/Tutorial7.ipynb\" target=\"_parent\"><img src=\"https://colab.research.google.com/assets/colab-badge.svg\" alt=\"Open In Colab\"/></a>"
      ]
    },
    {
      "cell_type": "markdown",
      "source": [
        "# DataLoader"
      ],
      "metadata": {
        "id": "uuiTqboIl2Px"
      }
    },
    {
      "cell_type": "code",
      "execution_count": 78,
      "metadata": {
        "id": "Sk25Dti2Myid"
      },
      "outputs": [],
      "source": [
        "import torch\n",
        "import torchvision\n",
        "from torch.utils.data import Dataset, DataLoader\n",
        "import numpy as np\n",
        "import math"
      ]
    },
    {
      "cell_type": "markdown",
      "source": [
        "gradient computation etc. not efficient for whole data set\n",
        "\n",
        "divide dataset into small batches\n",
        "\n",
        "---\n",
        "trainig loop\n",
        "\n",
        "    for epoch in range(num_epochs):\n",
        "\n",
        "        <!-- loop over all batches -->\n",
        "        for i in range(total_batches):\n",
        "            batch_x, batch_y = ..."
      ],
      "metadata": {
        "id": "X3Sh8FJv-K5R"
      }
    },
    {
      "cell_type": "markdown",
      "source": [
        "* epoch  - one forward and backward pass of ALL training sample\n",
        "* batch_size - number of training samples used in one forward/backward pass\n",
        "* number of iterations - number od passes, each pass (forward+backward) using [batch_size] number of samples\n",
        "* e.g.: 100 samples, batch_size=20 => 100/20=5 iterations for 1 epoch"
      ],
      "metadata": {
        "id": "NUOpfTE6_dRF"
      }
    },
    {
      "cell_type": "markdown",
      "source": [
        "**Dataloader can do the batch computation fot us:**\n",
        "\n",
        "implement a custom Dataset:\n",
        "\n",
        "inherit Dataset\n",
        "\n",
        "implement __init__, __getitem__, __len__\n"
      ],
      "metadata": {
        "id": "Sq2Yai_5A6-0"
      }
    },
    {
      "cell_type": "code",
      "source": [
        "# Clone the entire repo.\n",
        "!git clone -l -s https://github.com/AlexeyTri/PyTorchTutorials.git cloned-repo\n",
        "%cd cloned-repo\n",
        "!ls"
      ],
      "metadata": {
        "colab": {
          "base_uri": "https://localhost:8080/"
        },
        "id": "kwec37lzHJif",
        "outputId": "e474a064-0df4-4bdd-e74d-44774ca3e092"
      },
      "execution_count": 64,
      "outputs": [
        {
          "output_type": "stream",
          "name": "stdout",
          "text": [
            "Cloning into 'cloned-repo'...\n",
            "warning: --local is ignored\n",
            "remote: Enumerating objects: 29, done.\u001b[K\n",
            "remote: Counting objects: 100% (29/29), done.\u001b[K\n",
            "remote: Compressing objects: 100% (27/27), done.\u001b[K\n",
            "remote: Total 29 (delta 11), reused 0 (delta 0), pack-reused 0\u001b[K\n",
            "Unpacking objects: 100% (29/29), done.\n",
            "/content/cloned-repo\n",
            "README.md\t Tutorial2.ipynb  Tutorial4.ipynb  Tutorial6.ipynb\n",
            "Tutorial1.ipynb  Tutorial3.ipynb  Tutorial5.ipynb  wine.csv\n"
          ]
        }
      ]
    },
    {
      "cell_type": "code",
      "source": [
        "class WineDataset(Dataset):\n",
        "    def __init__(self):\n",
        "        # initialize data, download, etc.\n",
        "        # read with numpy or pandas\n",
        "        xy = np.loadtxt('/content/cloned-repo/wine.csv', delimiter=',',dtype=np.float32, skiprows=1)\n",
        "        self.n_samples = xy.shape[0]\n",
        "\n",
        "        # here we first column is the class label, rest are the features\n",
        "        self.x_data = torch.from_numpy(xy[:, 1:])\n",
        "        self.y_data = torch.from_numpy(xy[:, [0]])\n",
        "\n",
        "    # support indexing such that dataset[i] can be used to get i-th sample\n",
        "    def __getitem__(self, index):\n",
        "        return self.x_data[index], self.y_data[index]\n",
        "\n",
        "    # we can call len(dataset) to return the size\n",
        "    def __len__(self):\n",
        "        return self.n_samples"
      ],
      "metadata": {
        "id": "iUDAwx_DB5bl"
      },
      "execution_count": 65,
      "outputs": []
    },
    {
      "cell_type": "code",
      "source": [
        "# create dataset\n",
        "dataset = WineDataset()"
      ],
      "metadata": {
        "id": "kAG_5aOIExiB"
      },
      "execution_count": 75,
      "outputs": []
    },
    {
      "cell_type": "code",
      "source": [
        "# get first sample and unpack\n",
        "first_data = dataset[0]\n",
        "features, labels = first_data\n",
        "features, labels"
      ],
      "metadata": {
        "colab": {
          "base_uri": "https://localhost:8080/"
        },
        "id": "GZm9M_QTH3kw",
        "outputId": "59f2bc4a-59c2-464e-f1f1-7c73cd0271fe"
      },
      "execution_count": 76,
      "outputs": [
        {
          "output_type": "execute_result",
          "data": {
            "text/plain": [
              "(tensor([1.4230e+01, 1.7100e+00, 2.4300e+00, 1.5600e+01, 1.2700e+02, 2.8000e+00,\n",
              "         3.0600e+00, 2.8000e-01, 2.2900e+00, 5.6400e+00, 1.0400e+00, 3.9200e+00,\n",
              "         1.0650e+03]), tensor([1.]))"
            ]
          },
          "metadata": {},
          "execution_count": 76
        }
      ]
    },
    {
      "cell_type": "code",
      "source": [
        "# load whole dataset with Dataloader\n",
        "# shuffle: shuffle data, good for trainig\n",
        "# num_workers: faster loading with multiple subprocesses\n",
        "# if you get an error during loading, set num_workers to 0\n",
        "train_loader = DataLoader(dataset=dataset,\n",
        "                        batch_size=1,\n",
        "                        shuffle=True,\n",
        "                        num_workers=2)"
      ],
      "metadata": {
        "id": "wzhlBdGCJSWI"
      },
      "execution_count": 80,
      "outputs": []
    },
    {
      "cell_type": "code",
      "source": [
        "# convert to an iterator and look at one random sample\n",
        "dataiter = iter(train_loader)\n",
        "data = next(dataiter)\n",
        "features, labels = data\n",
        "features, labels"
      ],
      "metadata": {
        "colab": {
          "base_uri": "https://localhost:8080/"
        },
        "id": "pejbBJK0L2g0",
        "outputId": "23da332d-53f2-4130-fb7c-3056b4a00c97"
      },
      "execution_count": 81,
      "outputs": [
        {
          "output_type": "execute_result",
          "data": {
            "text/plain": [
              "(tensor([[1.3880e+01, 5.0400e+00, 2.2300e+00, 2.0000e+01, 8.0000e+01, 9.8000e-01,\n",
              "          3.4000e-01, 4.0000e-01, 6.8000e-01, 4.9000e+00, 5.8000e-01, 1.3300e+00,\n",
              "          4.1500e+02]]), tensor([[3.]]))"
            ]
          },
          "metadata": {},
          "execution_count": 81
        }
      ]
    },
    {
      "cell_type": "code",
      "source": [
        "# Dummy training loop\n",
        "num_epochs = 2\n",
        "total_samples = len(dataset)\n",
        "n_iterations = math.ceil(total_samples/4)\n",
        "for epoch in range(num_epochs):\n",
        "    for i, (inputs, labels) in enumerate(train_loader):\n",
        "        # here: 178 samples, batch_size=4, n_iters=178/4=44.5 -> 45 iterations\n",
        "        if (i+1) %5 == 0:\n",
        "            print(f'Epoch: {epoch+1}/{num_epochs}, Step {i+1}/{n_iterations}| Inputs {inputs.shape} | Labels {labels.shape}')"
      ],
      "metadata": {
        "id": "My5qKDoyMppV"
      },
      "execution_count": null,
      "outputs": []
    },
    {
      "cell_type": "code",
      "source": [
        "# some famous datasets are available in torchvision.datasets\n",
        "# e.g. MNIST, Fashion-MNIST, CIFAR10, COCO\n",
        "\n",
        "train_dataset = torchvision.datasets.MNIST(root='./data', \n",
        "                                           train=True, \n",
        "                                           transform=torchvision.transforms.ToTensor(),  \n",
        "                                           download=True)\n",
        "\n",
        "train_loader = DataLoader(dataset=train_dataset, \n",
        "                                           batch_size=3, \n",
        "                                           shuffle=True)"
      ],
      "metadata": {
        "id": "9xdn-nMWO1Qj"
      },
      "execution_count": null,
      "outputs": []
    },
    {
      "cell_type": "code",
      "source": [
        "# look at one random sample\n",
        "dataiter = iter(train_loader)\n",
        "data = next(dataiter)\n",
        "inputs, targets = data\n",
        "inputs.shape, targets.shape"
      ],
      "metadata": {
        "colab": {
          "base_uri": "https://localhost:8080/"
        },
        "id": "P50x3CKzO9DB",
        "outputId": "7a07c0ad-dd4d-434d-bd48-ba229a821248"
      },
      "execution_count": 84,
      "outputs": [
        {
          "output_type": "execute_result",
          "data": {
            "text/plain": [
              "(torch.Size([3, 1, 28, 28]), torch.Size([3]))"
            ]
          },
          "metadata": {},
          "execution_count": 84
        }
      ]
    }
  ]
}